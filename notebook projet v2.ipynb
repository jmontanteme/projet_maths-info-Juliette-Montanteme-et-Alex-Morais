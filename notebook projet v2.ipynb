{
 "cells": [
  {
   "cell_type": "markdown",
   "metadata": {},
   "source": [
    "# Projet Mathématiques/Informatique : lignes de niveau\n",
    "## Alex Morais Penso - Juliette Montantème"
   ]
  },
  {
   "cell_type": "markdown",
   "metadata": {},
   "source": [
    "## Contour simple"
   ]
  },
  {
   "cell_type": "markdown",
   "metadata": {},
   "source": [
    "### Amorce"
   ]
  },
  {
   "cell_type": "markdown",
   "metadata": {},
   "source": [
    "$f$ étant une fonction continûment différentiable, en appliquant le théorème des valeurs intermédiaires à la fonction $g : x \\mapsto f(0,x) $ définie sur $[0,1]$ , on peut trouver une condition raisonnable pour être certain qu'il existe un $t \\in [0,1]$ tel que $f(0,t) = c$. \n",
    "\n",
    "Cette condition est : $ min(f(0,0), f(0,1)) \\leq c \\leq max(f(0,0), f(0,1))$"
   ]
  },
  {
   "cell_type": "markdown",
   "metadata": {},
   "source": [
    "Pour écrire la fonction `find_seed` , on va d'abord vérifier que l'on se trouve dans le cadre de la condtion évoquée précedemment. Puis, le cas échéant, on utilise une méthode par dichotomie, qui, étant donné un $c$, permet de trouver rapidement un $t$ (à eps près) satisfaisant la condition $f(0,t) = c$. Sinon, la fonction renvoie $None$."
   ]
  },
  {
   "cell_type": "code",
   "execution_count": 6,
   "metadata": {},
   "outputs": [
    {
     "ename": "ModuleNotFoundError",
     "evalue": "No module named 'autograd'",
     "output_type": "error",
     "traceback": [
      "\u001b[1;31m---------------------------------------------------------------------------\u001b[0m",
      "\u001b[1;31mModuleNotFoundError\u001b[0m                       Traceback (most recent call last)",
      "\u001b[1;32m<ipython-input-6-8bc85c1c9514>\u001b[0m in \u001b[0;36m<module>\u001b[1;34m\u001b[0m\n\u001b[0;32m      2\u001b[0m \u001b[1;33m\u001b[0m\u001b[0m\n\u001b[0;32m      3\u001b[0m \u001b[1;32mimport\u001b[0m \u001b[0mmath\u001b[0m\u001b[1;33m\u001b[0m\u001b[1;33m\u001b[0m\u001b[0m\n\u001b[1;32m----> 4\u001b[1;33m \u001b[1;32mimport\u001b[0m \u001b[0mautograd\u001b[0m\u001b[1;33m\u001b[0m\u001b[1;33m\u001b[0m\u001b[0m\n\u001b[0m\u001b[0;32m      5\u001b[0m \u001b[1;32mfrom\u001b[0m \u001b[0mautograd\u001b[0m \u001b[1;32mimport\u001b[0m \u001b[0mnumpy\u001b[0m \u001b[1;32mas\u001b[0m \u001b[0mnp\u001b[0m\u001b[1;33m\u001b[0m\u001b[1;33m\u001b[0m\u001b[0m\n\u001b[0;32m      6\u001b[0m \u001b[1;32mfrom\u001b[0m \u001b[0mautograd\u001b[0m \u001b[1;32mimport\u001b[0m \u001b[0mgrad\u001b[0m\u001b[1;33m\u001b[0m\u001b[1;33m\u001b[0m\u001b[0m\n",
      "\u001b[1;31mModuleNotFoundError\u001b[0m: No module named 'autograd'"
     ]
    }
   ],
   "source": [
    "#on réalise les importations nécessaires à toute la suite de l'exercice\n",
    "\n",
    "import math\n",
    "import autograd\n",
    "from autograd import numpy as np\n",
    "from autograd import grad\n",
    "import matplotlib.pyplot as plt\n",
    "%matplotlib inline"
   ]
  },
  {
   "cell_type": "code",
   "execution_count": 3,
   "metadata": {},
   "outputs": [],
   "source": [
    "def find_seed(g, c=0, eps=2**(-26)):\n",
    "    \n",
    "    \"\"\"on réalise un premier test pour savoir si la première condition est respectée\"\"\"\n",
    "    \n",
    "    if min(g(0,0), g(0,1)) <= c <= max(g(0,0), g(0,1)):\n",
    "        a = 0\n",
    "        b = 1\n",
    "        while abs(g(0,(a+b)/2)-c) > eps:\n",
    "            \n",
    "            \"\"\"cette boucle permet de restreindre le segment de recherche\n",
    "            en appliquant à chaque fois le processus de départ\"\"\"\n",
    "            \n",
    "            if min(g(0,a), g(0,(a+b)/2)) <= c <= max(g(0,(a+b)/2), g(0,a)):\n",
    "                b = (a+b)/2\n",
    "            else :\n",
    "                a = (a+b)/2\n",
    "        return (a+b)/2"
   ]
  },
  {
   "cell_type": "markdown",
   "metadata": {},
   "source": [
    "Avec cette fonction, on peut donc rechercher un premier point d'une courbe de niveau qui passerait par l'axe des ordonnées. "
   ]
  },
  {
   "cell_type": "markdown",
   "metadata": {},
   "source": [
    "### Propagation\n"
   ]
  },
  {
   "cell_type": "markdown",
   "metadata": {},
   "source": [
    "On souhaite maintenant implémenter une fonction qui construise une ligne de niveau en commençant d'un point tel que ceux trouvés à l'aide de la fonction précédente. Cette fonction renverra deux tableaux à une dimension d'abscisses et d'ordonnées, ou $Non$e en cas d'impossibilité. "
   ]
  },
  {
   "cell_type": "markdown",
   "metadata": {},
   "source": [
    "Mathématiquement, une courbe de niveau passant par un point $M$ est perpendiculaire au vecteur :\n",
    "\n",
    "\\$\\overrightarrow{grad} f(M)= \\begin{pmatrix} \\frac{\\partial f}{\\partial x} \\\\ \\frac{\\partial f}{\\partial y} \\end{pmatrix}$\n",
    "\n",
    "Ainsi, un vecteur directeur de la courbe de niveau au point $M$ est :\n",
    "\n",
    "\\$ \\overrightarrow V_{dir} (M) = \\overrightarrow{grad} f(M)= \\begin{pmatrix} -\\frac{\\partial f}{\\partial y} \\\\ \\frac{\\partial f}{\\partial x} \\end{pmatrix}$ que l'on peut aussi normaliser afin de contrôler sa norme (en vue d'un déplacement quantifié le long de la courbe de niveau).\n",
    "\n",
    "C'est pourquoi, on va d'abord écrire deux fonctions. La première, `gradient`,  permet, à partir d'une fonction donnée, de calculer le gradient de cette fonction en un point. La seconde, `vecteur_courbe_normalisé` calcule, à partir d'un vecteur 2D donné, un vecteur unitaire normal à ce vecteur s'il en existe. \n"
   ]
  },
  {
   "cell_type": "code",
   "execution_count": 5,
   "metadata": {},
   "outputs": [],
   "source": [
    "# Voici la première fonction, qui utilise le module autograd, et renvoie le gradient de f au point (x,y)\n",
    "\n",
    "def gradient (f, x, y):\n",
    "    g = autograd.grad\n",
    "    return np.r_[g(f, 0)(x, y), g(f, 1)(x, y)]\n"
   ]
  },
  {
   "cell_type": "code",
   "execution_count": 6,
   "metadata": {},
   "outputs": [],
   "source": [
    "# Voici la seconde fonction qui renvoie un vecteur unitaire normal à v s'il en existe, None sinon\n",
    "\n",
    "def vecteur_courbe_normalisé(v):\n",
    "    if v[0] != 0 or v[1] != 0 : \n",
    "        norme = math.sqrt((v[0]**2)+(v[1]**2))\n",
    "        return ([-v[1]/norme, v[0]/norme])\n",
    "    \n"
   ]
  },
  {
   "cell_type": "markdown",
   "metadata": {},
   "source": [
    "Maintenant, passons à la conception de l'algorithme. Afin que l'on ne récupère pas une liste infinie de points (dans le cas d'une ligne de niveau qui serait un cercle par exemple), il faut déterminer un critère d'arrêt qui prenne en compte la distance du dernier point créé avec la courbe : si ce point est trop proche des autres de la courbe (ce qui pourrait vouloir dire que l'on est revenu au point de départ par exemple), on arrête de générer des nouveaux points à la courbe de niveau. \n",
    "\n",
    "On va donc écrire une fonction `distance_courbe`, qui, à partir d'un point et d'une courbe, donne la distance de ce point à la courbe (définie comme étant la distance minimale que fait le point en question avec les points de la courbe). "
   ]
  },
  {
   "cell_type": "code",
   "execution_count": 7,
   "metadata": {},
   "outputs": [],
   "source": [
    "# Voici le code de cette fonction\n",
    "\n",
    "def distance_courbe(point, nuage): \n",
    "    x = point[0]\n",
    "    y = point[1]\n",
    "    distance\n",
    "    for coord in zip(nuage[0], nuage[1]) : \n",
    "        \"\"\" Pour chaque point de la courbe (ici appelée nuage), on calcule sa distance au point test \n",
    "        et on l'ajoute à une liste. \"\"\"\n",
    "        x_c = coord[0]\n",
    "        y_c = coord[1]\n",
    "        d = math.sqrt((x_c-x)**2+(y_c-y)**2)\n",
    "        distances.append(d)\n",
    "    return (min(distances))"
   ]
  },
  {
   "cell_type": "markdown",
   "metadata": {},
   "source": [
    "On peut désormais écrire la fonction `simple_contour`. Cette fonction s'appuie d'abord sur la fonction find_seed pour démarrer la courbe.\n",
    "Si on peut trouver un point de départ, on construit alors la courbe de niveau, sous la forme de deux listes, une d'abscisses et une d'ordonnées. Pour cela, on se base sur le raisonnement mathématique précédent. On va donc, point par point, calculer le vecteur directeur $\\overrightarrow V_{dir}(M_i)$ de la courbe de niveau. On crée le point suivant $M_{i+1}$ en déplaçant le point $M_i$ d'une quantité delta suivant le vecteur directeur $\\overrightarrow V_{dir}(M_i)$.\n",
    "\n",
    "On a : \n",
    "$ M_{i+1} = M_i + delta . \\overrightarrow V_{dir}(M_i)$"
   ]
  },
  {
   "cell_type": "markdown",
   "metadata": {},
   "source": [
    "Ce raisonnement omet un problème, qui se pose notamment quand on restreint l'étude sur le segment $[0,1]$. En effet, lorsqu'on trace une courbe de niveau, le sens du vecteur directeur importe peu (il définit juste dans quel sens on va \"partir\" lors du tracé). Or, si on se place dans un segement précis, on risque de sortir de la zone de tracé uniquement parce que le sens du vecteur directeur calculé n'est pas le bon. Il faut donc prendre en compte le sens lors de la création du deuxième point et garder en mémoire le sens du tracé. C'est pourquoi, on a introduit la variable `direc`, qui prend la valeur $±1$ et on obtient donc : \n",
    "\n",
    "$ M_{i+1} = M_i + direc.delta.\\overrightarrow V_{dir}(M_i)$"
   ]
  },
  {
   "cell_type": "markdown",
   "metadata": {},
   "source": [
    "Lors de la création de la courbe, on introduit deux critères d'arrêt :\n",
    "1. le point créé reste bien dans le segment $[0,1]$\n",
    "2. la distance aux points de la courbe :  déjà évoqué précédemment, ce critère permet d'éviter que le programme ne tourne indéfiniment\n"
   ]
  },
  {
   "cell_type": "code",
   "execution_count": 3,
   "metadata": {},
   "outputs": [],
   "source": [
    "def simple_contour(f, c = 0.0, delta = 0.01, delta2 = 0.0001):\n",
    "    \"\"\"On crée les listes vides des coordonnées\"\"\"\n",
    "\n",
    "    abs_c = []\n",
    "    ord_c= []\n",
    "\n",
    "\n",
    "    \"\"\"On cherche un point de départ à la courbe\"\"\"\n",
    "\n",
    "    if find_seed(f, c) is None:\n",
    "        return(abs_c, ord_c)\n",
    "    else :\n",
    "        abs_c.append(0.0)\n",
    "        ord_c.append(find_seed(f, c, delta))\n",
    "        direc = 1 #on choisit un sens arbitraire pour le vecteur directeur\n",
    "        v = gradient(f, abs_c[-1], ord_c[-1])\n",
    "        x = abs_c[-1] + delta*vecteur_courbe_normalisé(v)[0]\n",
    "        y = ord_c[-1] + delta*vecteur_courbe_normalisé(v)[1]\n",
    "        if x<=0 : #on change le sens du vecteur directeur si nécessaire\n",
    "            direc = -1\n",
    "\n",
    "    \n",
    "    \"\"\"On passe maintenant à la boucle de création de la courbe, en appliquant les deux critères\n",
    "    d'arrêt mentionnés\"\"\"\n",
    "    \n",
    "    \n",
    "    while (0<= abs_c[-1] <= 1 and 0<= ord_c[-1] <= 1) and (distance_courbe([abs_c[-1], ord_c[-1]], [abs_c, ord_c]) >= delta2) :\n",
    "        v = gradient(f, abs_c[-1], ord_c[-1])\n",
    "        x = abs_c[-1] + direc*delta*vecteur_courbe_normalisé(v)[0]\n",
    "        y = ord_c[-1] + direc*delta*vecteur_courbe_normalisé(v)[1]\n",
    "            #x et y correspondent aux nouveaux points à ajouter à la courbe\n",
    "        abs_c.append(x)\n",
    "        ord_c.append(y)\n",
    "    \n",
    "    \"\"\"Il faut enlever les coordonnées du dernier point car celui-ci ne remplit pas\n",
    "    les critères souhaités\"\"\"\n",
    "    \n",
    "    abs_c.pop()\n",
    "    ord_c.pop()\n",
    "    \n",
    "    return(abs_c, ord_c)"
   ]
  },
  {
   "cell_type": "code",
   "execution_count": 4,
   "metadata": {},
   "outputs": [
    {
     "ename": "NameError",
     "evalue": "name 'find_seed' is not defined",
     "output_type": "error",
     "traceback": [
      "\u001b[1;31m---------------------------------------------------------------------------\u001b[0m",
      "\u001b[1;31mNameError\u001b[0m                                 Traceback (most recent call last)",
      "\u001b[1;32m<ipython-input-4-8a5c98a042cf>\u001b[0m in \u001b[0;36m<module>\u001b[1;34m\u001b[0m\n\u001b[1;32m----> 1\u001b[1;33m \u001b[0mabscisses\u001b[0m\u001b[1;33m=\u001b[0m\u001b[0msimple_contour\u001b[0m\u001b[1;33m(\u001b[0m\u001b[1;33m(\u001b[0m \u001b[1;32mlambda\u001b[0m \u001b[0mx\u001b[0m\u001b[1;33m,\u001b[0m\u001b[0my\u001b[0m \u001b[1;33m:\u001b[0m \u001b[0mx\u001b[0m\u001b[1;33m**\u001b[0m\u001b[1;36m2\u001b[0m \u001b[1;33m+\u001b[0m \u001b[0my\u001b[0m\u001b[1;33m**\u001b[0m\u001b[1;36m2\u001b[0m\u001b[1;33m)\u001b[0m\u001b[1;33m,\u001b[0m \u001b[1;36m1.0\u001b[0m\u001b[1;33m)\u001b[0m\u001b[1;33m[\u001b[0m\u001b[1;36m0\u001b[0m\u001b[1;33m]\u001b[0m\u001b[1;33m\u001b[0m\u001b[1;33m\u001b[0m\u001b[0m\n\u001b[0m\u001b[0;32m      2\u001b[0m \u001b[0mordo\u001b[0m\u001b[1;33m=\u001b[0m\u001b[0msimple_contour\u001b[0m\u001b[1;33m(\u001b[0m\u001b[1;33m(\u001b[0m \u001b[1;32mlambda\u001b[0m \u001b[0mx\u001b[0m\u001b[1;33m,\u001b[0m\u001b[0my\u001b[0m\u001b[1;33m:\u001b[0m \u001b[0mx\u001b[0m\u001b[1;33m**\u001b[0m\u001b[1;36m2\u001b[0m \u001b[1;33m+\u001b[0m \u001b[0my\u001b[0m\u001b[1;33m**\u001b[0m\u001b[1;36m2\u001b[0m\u001b[1;33m)\u001b[0m\u001b[1;33m,\u001b[0m \u001b[1;36m1.0\u001b[0m\u001b[1;33m)\u001b[0m\u001b[1;33m[\u001b[0m\u001b[1;36m1\u001b[0m\u001b[1;33m]\u001b[0m\u001b[1;33m\u001b[0m\u001b[1;33m\u001b[0m\u001b[0m\n\u001b[0;32m      3\u001b[0m \u001b[0mplt\u001b[0m\u001b[1;33m.\u001b[0m\u001b[0mscatter\u001b[0m\u001b[1;33m(\u001b[0m\u001b[0mabscisses\u001b[0m\u001b[1;33m,\u001b[0m\u001b[0mordo\u001b[0m\u001b[1;33m)\u001b[0m\u001b[1;33m\u001b[0m\u001b[1;33m\u001b[0m\u001b[0m\n",
      "\u001b[1;32m<ipython-input-3-1d68810a79f7>\u001b[0m in \u001b[0;36msimple_contour\u001b[1;34m(f, c, delta, delta2)\u001b[0m\n\u001b[0;32m      8\u001b[0m     \u001b[1;34m\"\"\"On cherche un point de départ à la courbe\"\"\"\u001b[0m\u001b[1;33m\u001b[0m\u001b[1;33m\u001b[0m\u001b[0m\n\u001b[0;32m      9\u001b[0m \u001b[1;33m\u001b[0m\u001b[0m\n\u001b[1;32m---> 10\u001b[1;33m     \u001b[1;32mif\u001b[0m \u001b[0mfind_seed\u001b[0m\u001b[1;33m(\u001b[0m\u001b[0mf\u001b[0m\u001b[1;33m,\u001b[0m \u001b[0mc\u001b[0m\u001b[1;33m)\u001b[0m \u001b[1;32mis\u001b[0m \u001b[1;32mNone\u001b[0m\u001b[1;33m:\u001b[0m\u001b[1;33m\u001b[0m\u001b[1;33m\u001b[0m\u001b[0m\n\u001b[0m\u001b[0;32m     11\u001b[0m         \u001b[1;32mreturn\u001b[0m\u001b[1;33m(\u001b[0m\u001b[0mabs_c\u001b[0m\u001b[1;33m,\u001b[0m \u001b[0mord_c\u001b[0m\u001b[1;33m)\u001b[0m\u001b[1;33m\u001b[0m\u001b[1;33m\u001b[0m\u001b[0m\n\u001b[0;32m     12\u001b[0m     \u001b[1;32melse\u001b[0m \u001b[1;33m:\u001b[0m\u001b[1;33m\u001b[0m\u001b[1;33m\u001b[0m\u001b[0m\n",
      "\u001b[1;31mNameError\u001b[0m: name 'find_seed' is not defined"
     ]
    }
   ],
   "source": [
    "abscisses=simple_contour(( lambda x,y : x**2 + y**2), 1.0)[0]\n",
    "ordo=simple_contour(( lambda x,y: x**2 + y**2), 1.0)[1]\n",
    "plt.scatter(abscisses,ordo)"
   ]
  },
  {
   "cell_type": "code",
   "execution_count": 7,
   "metadata": {},
   "outputs": [],
   "source": [
    "# Rotators\n",
    "# ------------------------------------------------------------------------------\n",
    "LEFT, UP, RIGHT, DOWN = 0, 1, 2, 3  # clockwise\n",
    "\n",
    "\n",
    "def rotate_direction(direction, n=1):\n",
    "    return (direction + n) % 4\n",
    "\n",
    "\n",
    "def rotate(x, y, n=1):\n",
    "    if n == 0:\n",
    "        return x, y\n",
    "    elif n >= 1:\n",
    "        return rotate(1 - y, x, n - 1)\n",
    "    else:\n",
    "        assert n < 0\n",
    "        return rotate(x, y, n=-3 * n)\n",
    "\n",
    "\n",
    "def rotate_function(f, n=1):\n",
    "    def rotated_function(x, y):\n",
    "        xr, yr = rotate(x, y, -n)\n",
    "        return f(xr, yr)\n",
    "\n",
    "    return rotated_function\n",
    "\n",
    "\n",
    "# Complex Contouring\n",
    "# ------------------------------------------------------------------------------\n",
    "\n",
    "# Customize the simple_contour function used in contour :\n",
    "# simple_contour = smart_simple_contour\n",
    "\n",
    "\n",
    "def contour(f, c, xs=[0.0, 1.0], ys=[0.0, 1.0], delta=0.01):\n",
    "    curves = []\n",
    "    nx, ny = len(xs), len(ys)\n",
    "    for i in range(nx - 1):\n",
    "        for j in range(ny - 1):\n",
    "            xmin, xmax = xs[i], xs[i + 1]\n",
    "            ymin, ymax = ys[j], ys[j + 1]\n",
    "\n",
    "            def f_cell(x, y):\n",
    "                return f(xmin + (xmax - xmin) * x, ymin + (ymax - ymin) * y)\n",
    "\n",
    "            done = set()\n",
    "            for n in [0, 1, 2, 3]:\n",
    "                if n not in done:\n",
    "                    rotated_f_cell = rotate_function(f_cell, n)\n",
    "                    x_curve_r, y_curve_r = simple_contour(rotated_f_cell, c, delta)\n",
    "                    exit = None\n",
    "                    if len(x_curve_r) >= 1:\n",
    "                        xf, yf = x_curve_r[-1], y_curve_r[-1]\n",
    "                        if xf == 0.0:\n",
    "                            exit = LEFT\n",
    "                        elif xf == 1.0:\n",
    "                            exit = RIGHT\n",
    "                        elif yf == 0.0:\n",
    "                            exit = DOWN\n",
    "                        elif yf == 1.0:\n",
    "                            exit = UP\n",
    "                    if exit is not None:  # a fully successful contour fragment\n",
    "                        exit = rotate_direction(exit, n)\n",
    "                        done.add(exit)\n",
    "\n",
    "                    x_curve, y_curve = [], []\n",
    "                    for x_r, y_r in zip(x_curve_r, y_curve_r):\n",
    "                        x, y = rotate(x_r, y_r, n=-n)\n",
    "                        x_curve.append(x)\n",
    "                        y_curve.append(y)\n",
    "                    x_curve = np.array(x_curve)\n",
    "                    y_curve = np.array(y_curve)\n",
    "                    curves.append(\n",
    "                        (xmin + (xmax - xmin) * x_curve, ymin + (ymax - ymin) * y_curve)\n",
    "                    )\n",
    "    return curves"
   ]
  }
 ],
 "metadata": {
  "kernelspec": {
   "display_name": "Python 3",
   "language": "python",
   "name": "python3"
  },
  "language_info": {
   "codemirror_mode": {
    "name": "ipython",
    "version": 3
   },
   "file_extension": ".py",
   "mimetype": "text/x-python",
   "name": "python",
   "nbconvert_exporter": "python",
   "pygments_lexer": "ipython3",
   "version": "3.7.4"
  }
 },
 "nbformat": 4,
 "nbformat_minor": 2
}

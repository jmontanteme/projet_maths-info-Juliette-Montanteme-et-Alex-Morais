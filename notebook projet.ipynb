{
 "cells": [
  {
   "cell_type": "markdown",
   "metadata": {},
   "source": [
    "# Projet Maths-Info : lignes de niveau\n",
    "## Alex Morais - Juliette Montantème"
   ]
  },
  {
   "cell_type": "markdown",
   "metadata": {},
   "source": [
    "## Contour simple"
   ]
  },
  {
   "cell_type": "markdown",
   "metadata": {},
   "source": [
    "### Amorce"
   ]
  },
  {
   "cell_type": "markdown",
   "metadata": {},
   "source": [
    "$f$ étant une fonction continûment différentiable, en appliquant le théorème des valeurs intermédiaires à la fonction $g : x \\mapsto f(0,x) $ définie sur $[0,1]$ , on peut trouver une condition raisonnable pour être certain qu'il existe un $t \\in [0,1]$ tel que $f(0,t) = c$. \n",
    "\n",
    "Cette condition est donc : $ min(f(0,0), f(0,1)) \\leq c \\leq max(f(0,0), f(0,1))$"
   ]
  },
  {
   "cell_type": "markdown",
   "metadata": {},
   "source": [
    "Pour écrire la première fonction, on va d'abord vérifier que l'on se trouve dans le cadre de la condtion évoquée précedemment. Puis, le cas échéant, on utilise une méthode par dichotomie, qui, étant donné un $c$, permet de trouver rapidement un $t$ (à eps près) satisfaisant la condition $f(0,t) = c$. Sinon, la fonction renvoie None"
   ]
  },
  {
   "cell_type": "code",
   "execution_count": 1,
   "metadata": {},
   "outputs": [],
   "source": [
    "def find_seed(g, c=0, eps=2**(-26)):\n",
    "    \n",
    "    \"\"\"on réalise un premier test pour savoir si la première condition est respectée\"\"\"\n",
    "    \n",
    "    if min(g(0,0), g(0,1)) <= c <= max(g(0,0), g(0,1)):\n",
    "        a = 0\n",
    "        b = 1\n",
    "        while abs(g(0,(a+b)/2)-c) > eps:\n",
    "            \n",
    "            \"\"\"cette boucle permet de restreindre le segment de recherche\n",
    "            en appliquant à chaque fois le processus de départ\"\"\"\n",
    "            \n",
    "            if min(g(0,a), g(0,(a+b)/2)) <= c <= max(g(0,(a+b)/2), g(0,a)):\n",
    "                b = (a+b)/2\n",
    "            else :\n",
    "                a = (a+b)/2\n",
    "        return (a+b)/2\n",
    "    else : \n",
    "        return None"
   ]
  },
  {
   "cell_type": "code",
   "execution_count": null,
   "metadata": {},
   "outputs": [],
   "source": []
  }
 ],
 "metadata": {
  "kernelspec": {
   "display_name": "Python 3",
   "language": "python",
   "name": "python3"
  },
  "language_info": {
   "codemirror_mode": {
    "name": "ipython",
    "version": 3
   },
   "file_extension": ".py",
   "mimetype": "text/x-python",
   "name": "python",
   "nbconvert_exporter": "python",
   "pygments_lexer": "ipython3",
   "version": "3.7.3"
  }
 },
 "nbformat": 4,
 "nbformat_minor": 2
}
